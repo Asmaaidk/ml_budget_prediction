{
 "cells": [
  {
   "cell_type": "code",
   "execution_count": 4,
   "id": "31684ebb-5efa-4a1f-9876-ff4a09096f09",
   "metadata": {},
   "outputs": [],
   "source": [
    "import numpy as np\n",
    "import matplotlib.pyplot as plt\n",
    "import pandas as pd\n",
    "import seaborn as sns"
   ]
  },
  {
   "cell_type": "markdown",
   "id": "c158d9cc-4bcf-4d61-808b-d94ec1766244",
   "metadata": {},
   "source": [
    "# Saudi Projects\n",
    "[Dataset Link in Kaggle](https://www.kaggle.com/ghadahaltwalah/saudi-projects-dataset)\n",
    "\n",
    "[Dataset Source](https://saudiprojects.net/)"
   ]
  },
  {
   "cell_type": "code",
   "execution_count": 5,
   "id": "1ba09b7b-33ef-47df-b93e-88a3d9534966",
   "metadata": {},
   "outputs": [],
   "source": [
    "# Load the dataset\n",
    "df = pd.read_csv(\"Saudi_projects_dataset.csv\")"
   ]
  },
  {
   "cell_type": "code",
   "execution_count": 6,
   "id": "094d441f-ce06-4d4c-92a9-9184f0609310",
   "metadata": {},
   "outputs": [
    {
     "name": "stdout",
     "output_type": "stream",
     "text": [
      "<class 'pandas.core.frame.DataFrame'>\n",
      "RangeIndex: 2182 entries, 0 to 2181\n",
      "Data columns (total 11 columns):\n",
      " #   Column               Non-Null Count  Dtype  \n",
      "---  ------               --------------  -----  \n",
      " 0   sectors              2182 non-null   object \n",
      " 1   sector_budgets       2182 non-null   int64  \n",
      " 2   sector_num_projects  2182 non-null   int64  \n",
      " 3   name_project         2182 non-null   object \n",
      " 4   type_project         2182 non-null   object \n",
      " 5   budget_project       849 non-null    float64\n",
      " 6   startday_project     1186 non-null   object \n",
      " 7   enddate_project      921 non-null    object \n",
      " 8   area_project         1695 non-null   object \n",
      " 9   region_project       2181 non-null   object \n",
      " 10  status_project       2182 non-null   object \n",
      "dtypes: float64(1), int64(2), object(8)\n",
      "memory usage: 187.6+ KB\n"
     ]
    }
   ],
   "source": [
    "df.info()"
   ]
  },
  {
   "cell_type": "code",
   "execution_count": 7,
   "id": "46796436-f8d6-416b-bdce-4b194e0f5ebf",
   "metadata": {},
   "outputs": [
    {
     "data": {
      "text/html": [
       "<div>\n",
       "<style scoped>\n",
       "    .dataframe tbody tr th:only-of-type {\n",
       "        vertical-align: middle;\n",
       "    }\n",
       "\n",
       "    .dataframe tbody tr th {\n",
       "        vertical-align: top;\n",
       "    }\n",
       "\n",
       "    .dataframe thead th {\n",
       "        text-align: right;\n",
       "    }\n",
       "</style>\n",
       "<table border=\"1\" class=\"dataframe\">\n",
       "  <thead>\n",
       "    <tr style=\"text-align: right;\">\n",
       "      <th></th>\n",
       "      <th>sectors</th>\n",
       "      <th>sector_budgets</th>\n",
       "      <th>sector_num_projects</th>\n",
       "      <th>name_project</th>\n",
       "      <th>type_project</th>\n",
       "      <th>budget_project</th>\n",
       "      <th>startday_project</th>\n",
       "      <th>enddate_project</th>\n",
       "      <th>area_project</th>\n",
       "      <th>region_project</th>\n",
       "      <th>status_project</th>\n",
       "    </tr>\n",
       "  </thead>\n",
       "  <tbody>\n",
       "    <tr>\n",
       "      <th>0</th>\n",
       "      <td>تجاري</td>\n",
       "      <td>1058790791316</td>\n",
       "      <td>902</td>\n",
       "      <td>برج غرفة الشرقية الاستثماري – Asharqia Chamber...</td>\n",
       "      <td>تجاري</td>\n",
       "      <td>3.350000e+08</td>\n",
       "      <td>03-07-2019</td>\n",
       "      <td>31-12-2021</td>\n",
       "      <td>7,752 متر مربع</td>\n",
       "      <td>المنطقة الشرقية, الدمام</td>\n",
       "      <td>تحت الإنشاء</td>\n",
       "    </tr>\n",
       "    <tr>\n",
       "      <th>1</th>\n",
       "      <td>تجاري</td>\n",
       "      <td>1058790791316</td>\n",
       "      <td>902</td>\n",
       "      <td>مقر برايس ووتر هاوس كوبرز – PWC Headquarter   ...</td>\n",
       "      <td>تجاري, سكني</td>\n",
       "      <td>NaN</td>\n",
       "      <td>01-01-2010</td>\n",
       "      <td>NaN</td>\n",
       "      <td>8,000 متر مربع</td>\n",
       "      <td>منطقة الرياض, الرياض</td>\n",
       "      <td>تحت الإنشاء</td>\n",
       "    </tr>\n",
       "    <tr>\n",
       "      <th>2</th>\n",
       "      <td>تجاري</td>\n",
       "      <td>1058790791316</td>\n",
       "      <td>902</td>\n",
       "      <td>مقر المدفوعات السعودية – Saudi Payment Headqua...</td>\n",
       "      <td>تجاري, سكني</td>\n",
       "      <td>1.178000e+09</td>\n",
       "      <td>01-01-2009</td>\n",
       "      <td>31-12-2014</td>\n",
       "      <td>19,500 متر مربع</td>\n",
       "      <td>منطقة الرياض, الرياض</td>\n",
       "      <td>مكتمل</td>\n",
       "    </tr>\n",
       "    <tr>\n",
       "      <th>3</th>\n",
       "      <td>تجاري</td>\n",
       "      <td>1058790791316</td>\n",
       "      <td>902</td>\n",
       "      <td>الاحساء ستريب مول – Ahsa Strip Mall           ...</td>\n",
       "      <td>تجاري</td>\n",
       "      <td>NaN</td>\n",
       "      <td>NaN</td>\n",
       "      <td>NaN</td>\n",
       "      <td>19,888 متر مربع</td>\n",
       "      <td>المنطقة الشرقية, الأحساء</td>\n",
       "      <td>معلن عنه</td>\n",
       "    </tr>\n",
       "    <tr>\n",
       "      <th>4</th>\n",
       "      <td>تجاري</td>\n",
       "      <td>1058790791316</td>\n",
       "      <td>902</td>\n",
       "      <td>برج الدايل – Al-Dailh Tower</td>\n",
       "      <td>فندقي, تجاري</td>\n",
       "      <td>1.200000e+08</td>\n",
       "      <td>01-06-2019</td>\n",
       "      <td>31-03-2022</td>\n",
       "      <td>3,651 متر مربع</td>\n",
       "      <td>منطقة مكة المكرمة, جدة</td>\n",
       "      <td>تحت الإنشاء</td>\n",
       "    </tr>\n",
       "  </tbody>\n",
       "</table>\n",
       "</div>"
      ],
      "text/plain": [
       "  sectors  sector_budgets  sector_num_projects  \\\n",
       "0   تجاري   1058790791316                  902   \n",
       "1   تجاري   1058790791316                  902   \n",
       "2   تجاري   1058790791316                  902   \n",
       "3   تجاري   1058790791316                  902   \n",
       "4   تجاري   1058790791316                  902   \n",
       "\n",
       "                                        name_project  type_project  \\\n",
       "0  برج غرفة الشرقية الاستثماري – Asharqia Chamber...         تجاري   \n",
       "1  مقر برايس ووتر هاوس كوبرز – PWC Headquarter   ...   تجاري, سكني   \n",
       "2  مقر المدفوعات السعودية – Saudi Payment Headqua...   تجاري, سكني   \n",
       "3  الاحساء ستريب مول – Ahsa Strip Mall           ...         تجاري   \n",
       "4      برج الدايل – Al-Dailh Tower                    فندقي, تجاري   \n",
       "\n",
       "   budget_project startday_project enddate_project     area_project  \\\n",
       "0    3.350000e+08       03-07-2019      31-12-2021   7,752 متر مربع   \n",
       "1             NaN       01-01-2010             NaN   8,000 متر مربع   \n",
       "2    1.178000e+09       01-01-2009      31-12-2014  19,500 متر مربع   \n",
       "3             NaN              NaN             NaN  19,888 متر مربع   \n",
       "4    1.200000e+08       01-06-2019      31-03-2022   3,651 متر مربع   \n",
       "\n",
       "             region_project status_project  \n",
       "0   المنطقة الشرقية, الدمام    تحت الإنشاء  \n",
       "1      منطقة الرياض, الرياض    تحت الإنشاء  \n",
       "2      منطقة الرياض, الرياض          مكتمل  \n",
       "3  المنطقة الشرقية, الأحساء       معلن عنه  \n",
       "4    منطقة مكة المكرمة, جدة    تحت الإنشاء  "
      ]
     },
     "execution_count": 7,
     "metadata": {},
     "output_type": "execute_result"
    }
   ],
   "source": [
    "df.head()"
   ]
  },
  {
   "cell_type": "markdown",
   "id": "c767b781-5fdd-4d1c-8b61-dbfe47402f56",
   "metadata": {},
   "source": [
    "---"
   ]
  },
  {
   "cell_type": "markdown",
   "id": "216f48e7-5888-4b73-81cc-4b9d400d73be",
   "metadata": {},
   "source": [
    "## Translate the data set Columns"
   ]
  },
  {
   "cell_type": "markdown",
   "id": "0ff30789-a8f6-4bb4-8f9f-5cf105551965",
   "metadata": {},
   "source": [
    "##### The sector Column"
   ]
  },
  {
   "cell_type": "code",
   "execution_count": 8,
   "id": "6a90236a-2890-4187-89ce-ba472dcde28b",
   "metadata": {},
   "outputs": [],
   "source": [
    "df['sectors'] = df['sectors'].str.replace('صحي','Health')\n",
    "df['sectors'] = df['sectors'].str.replace('تجاري','Commercial')\n",
    "df['sectors'] = df['sectors'].str.replace('رياضي','Sports')\n",
    "df['sectors'] = df['sectors'].str.replace('ديني/خيري','Charity')\n",
    "df['sectors'] = df['sectors'].str.replace('حكومي','Governmental')\n",
    "df['sectors'] = df['sectors'].str.replace('تعليمي','Educational')\n",
    "df['sectors'] = df['sectors'].str.replace('ترفيهي/سياحي','Tourist')\n",
    "df['sectors'] = df['sectors'].str.replace('صناعي','Industrial')\n",
    "df['sectors'] = df['sectors'].str.replace('سكني','Residential')\n",
    "df['sectors'] = df['sectors'].str.replace('علمي','Scientific')\n",
    "df['sectors'] = df['sectors'].str.replace('فندقي','Hotel')\n",
    "df['sectors'] = df['sectors'].str.replace('البنية التحتية','Infrastructure')"
   ]
  },
  {
   "cell_type": "markdown",
   "id": "d13c7338-d39c-4a8d-9f1e-ac898f680aa7",
   "metadata": {},
   "source": [
    "---"
   ]
  },
  {
   "cell_type": "markdown",
   "id": "161fe3b2-913b-4cd4-8c0a-cfa81875a73b",
   "metadata": {},
   "source": [
    "##### The type_project Column"
   ]
  },
  {
   "cell_type": "code",
   "execution_count": 9,
   "id": "02c320d3-1982-4619-8e40-91a522c0ff5b",
   "metadata": {},
   "outputs": [],
   "source": [
    "# Modify  the type_project\n",
    "df['type_project'] = df['type_project'].str.replace('صحي','Health')\n",
    "df['type_project'] = df['type_project'].str.replace('تجاري','Commercial')\n",
    "df['type_project'] = df['type_project'].str.replace('رياضي','Sports')\n",
    "df['type_project'] = df['type_project'].str.replace('ديني/خيري','Charity')\n",
    "df['type_project'] = df['type_project'].str.replace('حكومي','Governmental')\n",
    "df['type_project'] = df['type_project'].str.replace('تعليمي','Educational')\n",
    "df['type_project'] = df['type_project'].str.replace('ترفيهي/سياحي','Tourist')\n",
    "df['type_project'] = df['type_project'].str.replace('صناعي','Industrial')\n",
    "df['type_project'] = df['type_project'].str.replace('سكني','Residential')\n",
    "df['type_project'] = df['type_project'].str.replace('علمي','Scientific')\n",
    "df['type_project'] = df['type_project'].str.replace('فندقي','Hotel')\n",
    "df['type_project'] = df['type_project'].str.replace('البنية التحتية','Infrastructure')\n"
   ]
  },
  {
   "cell_type": "markdown",
   "id": "e040bfd9-e378-4fab-8968-852221e514c8",
   "metadata": {},
   "source": [
    "---"
   ]
  },
  {
   "cell_type": "markdown",
   "id": "1f9fdd19-e333-4592-80ce-fda177fcf5e2",
   "metadata": {},
   "source": [
    "##### The area_project Column\n",
    "- split the column to two columns : area and unit\n",
    "- make sure all the values in the area column is numeric\n",
    "- make sure all the units in the unit column is unified"
   ]
  },
  {
   "cell_type": "code",
   "execution_count": 10,
   "id": "42efa416-6e9e-4eb3-9e89-b1daa59a076b",
   "metadata": {},
   "outputs": [],
   "source": [
    "# Split the column\n",
    "df[['project_area', 'unit']] = df['area_project'].str.split(' ', 1, expand=True)"
   ]
  },
  {
   "cell_type": "code",
   "execution_count": 11,
   "id": "4ca50796-2c17-46f9-9614-5e3136d37e63",
   "metadata": {},
   "outputs": [
    {
     "data": {
      "text/html": [
       "<div>\n",
       "<style scoped>\n",
       "    .dataframe tbody tr th:only-of-type {\n",
       "        vertical-align: middle;\n",
       "    }\n",
       "\n",
       "    .dataframe tbody tr th {\n",
       "        vertical-align: top;\n",
       "    }\n",
       "\n",
       "    .dataframe thead th {\n",
       "        text-align: right;\n",
       "    }\n",
       "</style>\n",
       "<table border=\"1\" class=\"dataframe\">\n",
       "  <thead>\n",
       "    <tr style=\"text-align: right;\">\n",
       "      <th></th>\n",
       "      <th>sectors</th>\n",
       "      <th>sector_budgets</th>\n",
       "      <th>sector_num_projects</th>\n",
       "      <th>name_project</th>\n",
       "      <th>type_project</th>\n",
       "      <th>budget_project</th>\n",
       "      <th>startday_project</th>\n",
       "      <th>enddate_project</th>\n",
       "      <th>area_project</th>\n",
       "      <th>region_project</th>\n",
       "      <th>status_project</th>\n",
       "      <th>project_area</th>\n",
       "      <th>unit</th>\n",
       "    </tr>\n",
       "  </thead>\n",
       "  <tbody>\n",
       "    <tr>\n",
       "      <th>0</th>\n",
       "      <td>Commercial</td>\n",
       "      <td>1058790791316</td>\n",
       "      <td>902</td>\n",
       "      <td>برج غرفة الشرقية الاستثماري – Asharqia Chamber...</td>\n",
       "      <td>Commercial</td>\n",
       "      <td>3.350000e+08</td>\n",
       "      <td>03-07-2019</td>\n",
       "      <td>31-12-2021</td>\n",
       "      <td>7,752 متر مربع</td>\n",
       "      <td>المنطقة الشرقية, الدمام</td>\n",
       "      <td>تحت الإنشاء</td>\n",
       "      <td>7,752</td>\n",
       "      <td>متر مربع</td>\n",
       "    </tr>\n",
       "    <tr>\n",
       "      <th>1</th>\n",
       "      <td>Commercial</td>\n",
       "      <td>1058790791316</td>\n",
       "      <td>902</td>\n",
       "      <td>مقر برايس ووتر هاوس كوبرز – PWC Headquarter   ...</td>\n",
       "      <td>Commercial, Residential</td>\n",
       "      <td>NaN</td>\n",
       "      <td>01-01-2010</td>\n",
       "      <td>NaN</td>\n",
       "      <td>8,000 متر مربع</td>\n",
       "      <td>منطقة الرياض, الرياض</td>\n",
       "      <td>تحت الإنشاء</td>\n",
       "      <td>8,000</td>\n",
       "      <td>متر مربع</td>\n",
       "    </tr>\n",
       "    <tr>\n",
       "      <th>2</th>\n",
       "      <td>Commercial</td>\n",
       "      <td>1058790791316</td>\n",
       "      <td>902</td>\n",
       "      <td>مقر المدفوعات السعودية – Saudi Payment Headqua...</td>\n",
       "      <td>Commercial, Residential</td>\n",
       "      <td>1.178000e+09</td>\n",
       "      <td>01-01-2009</td>\n",
       "      <td>31-12-2014</td>\n",
       "      <td>19,500 متر مربع</td>\n",
       "      <td>منطقة الرياض, الرياض</td>\n",
       "      <td>مكتمل</td>\n",
       "      <td>19,500</td>\n",
       "      <td>متر مربع</td>\n",
       "    </tr>\n",
       "    <tr>\n",
       "      <th>3</th>\n",
       "      <td>Commercial</td>\n",
       "      <td>1058790791316</td>\n",
       "      <td>902</td>\n",
       "      <td>الاحساء ستريب مول – Ahsa Strip Mall           ...</td>\n",
       "      <td>Commercial</td>\n",
       "      <td>NaN</td>\n",
       "      <td>NaN</td>\n",
       "      <td>NaN</td>\n",
       "      <td>19,888 متر مربع</td>\n",
       "      <td>المنطقة الشرقية, الأحساء</td>\n",
       "      <td>معلن عنه</td>\n",
       "      <td>19,888</td>\n",
       "      <td>متر مربع</td>\n",
       "    </tr>\n",
       "    <tr>\n",
       "      <th>4</th>\n",
       "      <td>Commercial</td>\n",
       "      <td>1058790791316</td>\n",
       "      <td>902</td>\n",
       "      <td>برج الدايل – Al-Dailh Tower</td>\n",
       "      <td>Hotel, Commercial</td>\n",
       "      <td>1.200000e+08</td>\n",
       "      <td>01-06-2019</td>\n",
       "      <td>31-03-2022</td>\n",
       "      <td>3,651 متر مربع</td>\n",
       "      <td>منطقة مكة المكرمة, جدة</td>\n",
       "      <td>تحت الإنشاء</td>\n",
       "      <td>3,651</td>\n",
       "      <td>متر مربع</td>\n",
       "    </tr>\n",
       "  </tbody>\n",
       "</table>\n",
       "</div>"
      ],
      "text/plain": [
       "       sectors  sector_budgets  sector_num_projects  \\\n",
       "0   Commercial   1058790791316                  902   \n",
       "1   Commercial   1058790791316                  902   \n",
       "2   Commercial   1058790791316                  902   \n",
       "3   Commercial   1058790791316                  902   \n",
       "4   Commercial   1058790791316                  902   \n",
       "\n",
       "                                        name_project             type_project  \\\n",
       "0  برج غرفة الشرقية الاستثماري – Asharqia Chamber...               Commercial   \n",
       "1  مقر برايس ووتر هاوس كوبرز – PWC Headquarter   ...  Commercial, Residential   \n",
       "2  مقر المدفوعات السعودية – Saudi Payment Headqua...  Commercial, Residential   \n",
       "3  الاحساء ستريب مول – Ahsa Strip Mall           ...               Commercial   \n",
       "4      برج الدايل – Al-Dailh Tower                          Hotel, Commercial   \n",
       "\n",
       "   budget_project startday_project enddate_project     area_project  \\\n",
       "0    3.350000e+08       03-07-2019      31-12-2021   7,752 متر مربع   \n",
       "1             NaN       01-01-2010             NaN   8,000 متر مربع   \n",
       "2    1.178000e+09       01-01-2009      31-12-2014  19,500 متر مربع   \n",
       "3             NaN              NaN             NaN  19,888 متر مربع   \n",
       "4    1.200000e+08       01-06-2019      31-03-2022   3,651 متر مربع   \n",
       "\n",
       "             region_project status_project project_area      unit  \n",
       "0   المنطقة الشرقية, الدمام    تحت الإنشاء        7,752  متر مربع  \n",
       "1      منطقة الرياض, الرياض    تحت الإنشاء        8,000  متر مربع  \n",
       "2      منطقة الرياض, الرياض          مكتمل       19,500  متر مربع  \n",
       "3  المنطقة الشرقية, الأحساء       معلن عنه       19,888  متر مربع  \n",
       "4    منطقة مكة المكرمة, جدة    تحت الإنشاء        3,651  متر مربع  "
      ]
     },
     "execution_count": 11,
     "metadata": {},
     "output_type": "execute_result"
    }
   ],
   "source": [
    "df.head()"
   ]
  },
  {
   "cell_type": "code",
   "execution_count": null,
   "id": "38a124b8-1442-4dd9-a794-990c2eb18584",
   "metadata": {},
   "outputs": [],
   "source": [
    "# Check the units\n",
    "df['unit'].unique()"
   ]
  },
  {
   "cell_type": "code",
   "execution_count": null,
   "id": "9f4eb6b3-4d97-40b0-8979-f93775781a50",
   "metadata": {},
   "outputs": [],
   "source": [
    "df['unit'].value_counts()"
   ]
  },
  {
   "cell_type": "code",
   "execution_count": 12,
   "id": "e539892e-aaba-4c3c-ba6f-b584eee8e2f6",
   "metadata": {},
   "outputs": [],
   "source": [
    "# unify the units\n",
    "df['unit'] = df['unit'].replace(dict.fromkeys(['متر مربع', 'مترمربع', 'م2', 'متر', 'م٢', 'متر مريع', 'متر مربع', 'مترمربع'], 'square meter'))\n",
    "df['unit'] = df['unit'].replace(dict.fromkeys([' متر مربع', 'متر مربع', 'متر مربع (المساحة المكتبية)', 'مترمبع', ' مترمربع', 'm2'], 'square meter'))"
   ]
  },
  {
   "cell_type": "code",
   "execution_count": 13,
   "id": "7bad128a-7f40-4349-8100-3da29e41c1a3",
   "metadata": {},
   "outputs": [],
   "source": [
    "df['unit'] = df['unit'].replace(dict.fromkeys(['كلم', 'مليون متر مربع', 'كم مربع', 'مليون م2', 'كيلو متر', 'كم.', 'كم2', 'كيلومتر مربع', 'كليو متر'], 'square kilometers'))\n",
    "df['unit'] = df['unit'].replace(dict.fromkeys(['كم', 'كم ²', 'كيلو', 'ملايين م2', 'ملايين متر مربع', 'مليون مترمربع', 'كلم2', 'كيلومتر'], 'square kilometers'))"
   ]
  },
  {
   "cell_type": "code",
   "execution_count": null,
   "id": "0c72d10e-6c6e-49d5-8738-5ce5ffddf160",
   "metadata": {},
   "outputs": [],
   "source": [
    "df['unit'].unique()"
   ]
  },
  {
   "cell_type": "code",
   "execution_count": null,
   "id": "7c3b26bd-bc13-413c-bd40-ace163ee9926",
   "metadata": {},
   "outputs": [],
   "source": [
    "df['unit'].value_counts()"
   ]
  },
  {
   "cell_type": "code",
   "execution_count": null,
   "id": "ad152dff-4ebf-4abf-ae51-e1ea26eb4696",
   "metadata": {},
   "outputs": [],
   "source": [
    "# Check the area column\n",
    "df['project_area'].unique()"
   ]
  },
  {
   "cell_type": "code",
   "execution_count": 14,
   "id": "163c5b8b-2140-4400-a352-ef14852e550e",
   "metadata": {},
   "outputs": [
    {
     "data": {
      "text/html": [
       "<div>\n",
       "<style scoped>\n",
       "    .dataframe tbody tr th:only-of-type {\n",
       "        vertical-align: middle;\n",
       "    }\n",
       "\n",
       "    .dataframe tbody tr th {\n",
       "        vertical-align: top;\n",
       "    }\n",
       "\n",
       "    .dataframe thead th {\n",
       "        text-align: right;\n",
       "    }\n",
       "</style>\n",
       "<table border=\"1\" class=\"dataframe\">\n",
       "  <thead>\n",
       "    <tr style=\"text-align: right;\">\n",
       "      <th></th>\n",
       "      <th>sectors</th>\n",
       "      <th>sector_budgets</th>\n",
       "      <th>sector_num_projects</th>\n",
       "      <th>name_project</th>\n",
       "      <th>type_project</th>\n",
       "      <th>budget_project</th>\n",
       "      <th>startday_project</th>\n",
       "      <th>enddate_project</th>\n",
       "      <th>area_project</th>\n",
       "      <th>region_project</th>\n",
       "      <th>status_project</th>\n",
       "      <th>project_area</th>\n",
       "      <th>unit</th>\n",
       "    </tr>\n",
       "  </thead>\n",
       "  <tbody>\n",
       "  </tbody>\n",
       "</table>\n",
       "</div>"
      ],
      "text/plain": [
       "Empty DataFrame\n",
       "Columns: [sectors, sector_budgets, sector_num_projects, name_project, type_project, budget_project, startday_project, enddate_project, area_project, region_project, status_project, project_area, unit]\n",
       "Index: []"
      ]
     },
     "execution_count": 14,
     "metadata": {},
     "output_type": "execute_result"
    }
   ],
   "source": [
    "# check the non numeric value\n",
    "# since some of it has the unit too we will change the unit column according to it\n",
    "df[df['project_area'] == '1000000ي'] "
   ]
  },
  {
   "cell_type": "code",
   "execution_count": 15,
   "id": "20ac3e0c-250d-467f-ad77-7c402ffbbd41",
   "metadata": {},
   "outputs": [],
   "source": [
    "df.loc[df['project_area'] == '1000000ي', 'unit'] = \"square meter\""
   ]
  },
  {
   "cell_type": "code",
   "execution_count": 16,
   "id": "021bcd2b-e050-46a7-9778-d1d84aa1b85b",
   "metadata": {},
   "outputs": [],
   "source": [
    "#change the units\n",
    "df.loc[df['project_area'] == '21,908مترمربع', 'unit'] = \"square meter\"\n",
    "df.loc[df['project_area'] == '15.000مترمربع', 'unit'] = \"square meter\"\n",
    "df.loc[df['project_area'] == '21.000مترمربع', 'unit'] = \"square meter\"\n",
    "df.loc[df['project_area'] == '٤١٠٠٠متر', 'unit'] = \"square meter\"\n",
    "df.loc[df['project_area'] == '2.420.000متر', 'unit'] = \"square meter\"\n",
    "df.loc[df['project_area'] == '37.917مترمربع', 'unit'] = \"square meter\"\n",
    "df.loc[df['project_area'] == '10.800مترمربع', 'unit'] = \"square meter\"\n",
    "df.loc[df['project_area'] == '13,605مترمربع', 'unit'] = \"square meter\"\n",
    "df.loc[df['project_area'] == '74.932مترمربع', 'unit'] = \"square meter\"\n",
    "df.loc[df['project_area'] == '65.000م²', 'unit'] = \"square meter\"\n",
    "df.loc[df['project_area'] == '15000م2', 'unit'] = \"square meter\"\n",
    "df.loc[df['project_area'] == '17000.000م2', 'unit'] = \"square meter\"\n",
    "df.loc[df['project_area'] == '3.040.132.32م', 'unit'] = \"square meter\"\n",
    "df.loc[df['project_area'] == '495,708مترمربع', 'unit'] = \"square meter\"\n",
    "df.loc[df['project_area'] == '١٣٨٠٠٠م٢', 'unit'] = \"square meter\"\n",
    "df.loc[df['project_area'] == '١٢٢,٨٢٩مترمربع', 'unit'] = \"square meter\"\n",
    "df.loc[df['project_area'] == '151000م٢', 'unit'] = \"square meter\"\n",
    "df.loc[df['project_area'] == '28160م2', 'unit'] = \"square meter\"\n",
    "df.loc[df['project_area'] == '1.600.270م2', 'unit'] = \"square meter\"\n",
    "df.loc[df['project_area'] == '١٧٦', 'unit'] = \"square meter\"\n",
    "df.loc[df['project_area'] == '500000م2', 'unit'] = \"square meter\"\n",
    "df.loc[df['project_area'] == '110,000م2', 'unit'] = \"square meter\"\n",
    "df.loc[df['project_area'] == '15,700مترمربع', 'unit'] = \"square meter\"\n",
    "df.loc[df['project_area'] == '21,908مترمربع', 'unit'] = \"square meter\""
   ]
  },
  {
   "cell_type": "code",
   "execution_count": 17,
   "id": "d02b299c-cb51-49e7-b747-bd18dc8d7f71",
   "metadata": {},
   "outputs": [
    {
     "name": "stderr",
     "output_type": "stream",
     "text": [
      "<ipython-input-17-e8d31c3e172c>:3: FutureWarning: The default value of regex will change from True to False in a future version.\n",
      "  df['project_area'] = df['project_area'].str.replace('21.908مترمربع','21,908')\n",
      "<ipython-input-17-e8d31c3e172c>:4: FutureWarning: The default value of regex will change from True to False in a future version.\n",
      "  df['project_area'] = df['project_area'].str.replace('15.000مترمربع','15,000')\n",
      "<ipython-input-17-e8d31c3e172c>:5: FutureWarning: The default value of regex will change from True to False in a future version.\n",
      "  df['project_area'] = df['project_area'].str.replace('21.000مترمربع','21,000')\n",
      "<ipython-input-17-e8d31c3e172c>:11: FutureWarning: The default value of regex will change from True to False in a future version.\n",
      "  df['project_area'] = df['project_area'].str.replace('2.420.000متر','2,420,000')\n",
      "<ipython-input-17-e8d31c3e172c>:12: FutureWarning: The default value of regex will change from True to False in a future version.\n",
      "  df['project_area'] = df['project_area'].str.replace('37.917مترمربع','37,917')\n",
      "<ipython-input-17-e8d31c3e172c>:13: FutureWarning: The default value of regex will change from True to False in a future version.\n",
      "  df['project_area'] = df['project_area'].str.replace('10.800مترمربع','10800')\n",
      "<ipython-input-17-e8d31c3e172c>:16: FutureWarning: The default value of regex will change from True to False in a future version.\n",
      "  df['project_area'] = df['project_area'].str.replace('٨٠.٠٠٠','80000')\n",
      "<ipython-input-17-e8d31c3e172c>:17: FutureWarning: The default value of regex will change from True to False in a future version.\n",
      "  df['project_area'] = df['project_area'].str.replace('74.932مترمربع','74932')\n",
      "<ipython-input-17-e8d31c3e172c>:19: FutureWarning: The default value of regex will change from True to False in a future version.\n",
      "  df['project_area'] = df['project_area'].str.replace('65.000م²','65000')\n",
      "<ipython-input-17-e8d31c3e172c>:22: FutureWarning: The default value of regex will change from True to False in a future version.\n",
      "  df['project_area'] = df['project_area'].str.replace('17000.000م2','17000.000')\n",
      "<ipython-input-17-e8d31c3e172c>:23: FutureWarning: The default value of regex will change from True to False in a future version.\n",
      "  df['project_area'] = df['project_area'].str.replace('3.040.132.32م','3,040,132.3')\n",
      "<ipython-input-17-e8d31c3e172c>:33: FutureWarning: The default value of regex will change from True to False in a future version.\n",
      "  df['project_area'] = df['project_area'].str.replace('1.600.270م2','1600270')\n"
     ]
    }
   ],
   "source": [
    "# replase with the correct numeric value\n",
    "df['project_area'] = df['project_area'].str.replace('٨٠٠٠٠٠٠','8000000')\n",
    "df['project_area'] = df['project_area'].str.replace('21.908مترمربع','21,908')\n",
    "df['project_area'] = df['project_area'].str.replace('15.000مترمربع','15,000')\n",
    "df['project_area'] = df['project_area'].str.replace('21.000مترمربع','21,000')\n",
    "df['project_area'] = df['project_area'].str.replace('٤١٠٠٠متر','41000')\n",
    "df['project_area'] = df['project_area'].str.replace('٣٩،٠٠٠','39000')\n",
    "df['project_area'] = df['project_area'].str.replace('٢٥٠٠٠٠','250000')\n",
    "df['project_area'] = df['project_area'].str.replace('مليون','1000000')\n",
    "df['project_area'] = df['project_area'].str.replace('٣٥٠٠٠','35000')\n",
    "df['project_area'] = df['project_area'].str.replace('2.420.000متر','2,420,000')\n",
    "df['project_area'] = df['project_area'].str.replace('37.917مترمربع','37,917')\n",
    "df['project_area'] = df['project_area'].str.replace('10.800مترمربع','10800')\n",
    "df['project_area'] = df['project_area'].str.replace('13,605مترمربع','13,605')\n",
    "df['project_area'] = df['project_area'].str.replace('٢٥٠٠٠٠','250000')\n",
    "df['project_area'] = df['project_area'].str.replace('٨٠.٠٠٠','80000')\n",
    "df['project_area'] = df['project_area'].str.replace('74.932مترمربع','74932')\n",
    "df['project_area'] = df['project_area'].str.replace('٣٤٠٠٠٠٠','3400000')\n",
    "df['project_area'] = df['project_area'].str.replace('65.000م²','65000')\n",
    "df['project_area'] = df['project_area'].str.replace('٤٠٠٠','4000')\n",
    "df['project_area'] = df['project_area'].str.replace('15000م2','15000')\n",
    "df['project_area'] = df['project_area'].str.replace('17000.000م2','17000.000')\n",
    "df['project_area'] = df['project_area'].str.replace('3.040.132.32م','3,040,132.3')\n",
    "df['project_area'] = df['project_area'].str.replace('495,708مترمربع','495,708')\n",
    "df['project_area'] = df['project_area'].str.replace('١٣٨٠٠٠م٢','138000')\n",
    "df['project_area'] = df['project_area'].str.replace('٨٨,٨٢٥','88825')\n",
    "df['project_area'] = df['project_area'].str.replace('٧٩٤٦١','79461')\n",
    "df['project_area'] = df['project_area'].str.replace('٧٨,٤٦٢','78462')\n",
    "df['project_area'] = df['project_area'].str.replace('٧٩,٩٧٥','79975')\n",
    "df['project_area'] = df['project_area'].str.replace('١٢٢,٨٢٩مترمربع','122829')\n",
    "df['project_area'] = df['project_area'].str.replace('151000م٢','151000')\n",
    "df['project_area'] = df['project_area'].str.replace('28160م2','281602')\n",
    "df['project_area'] = df['project_area'].str.replace('1.600.270م2','1600270')\n",
    "df['project_area'] = df['project_area'].str.replace('٥٢٥٠٠٠','525000')\n",
    "df['project_area'] = df['project_area'].str.replace('١٧٦','176000000')\n",
    "df['project_area'] = df['project_area'].str.replace('500000م2','500000')\n",
    "df['project_area'] = df['project_area'].str.replace('110,000م2','110000')\n",
    "df['project_area'] = df['project_area'].str.replace('15,700مترمربع','15700')\n",
    "df['project_area'] = df['project_area'].str.replace('21,908مترمربع','21908')\n",
    "df['project_area'] = df['project_area'].str.replace('1000000ي','2200000')"
   ]
  },
  {
   "cell_type": "code",
   "execution_count": 18,
   "id": "55959afa-9595-4658-9f48-bb9ac9077dca",
   "metadata": {},
   "outputs": [
    {
     "name": "stderr",
     "output_type": "stream",
     "text": [
      "<ipython-input-18-d14182273a68>:3: FutureWarning: The default value of regex will change from True to False in a future version. In addition, single character regular expressions will*not* be treated as literal strings when regex=True.\n",
      "  df['project_area'] = df['project_area'].str.replace('.','')\n"
     ]
    }
   ],
   "source": [
    "# replace the (.) and (,) and (،) \n",
    "# the (.) in this case meant to be (,) not the decimal dot\n",
    "df['project_area'] = df['project_area'].str.replace('.','')"
   ]
  },
  {
   "cell_type": "code",
   "execution_count": 19,
   "id": "b25a8d1c-e25c-4acb-b85e-ecf34d8b90d5",
   "metadata": {},
   "outputs": [],
   "source": [
    "df['project_area'] = df['project_area'].str.replace(',','')"
   ]
  },
  {
   "cell_type": "code",
   "execution_count": 20,
   "id": "762d8c04-725c-4331-af86-7555653ca92f",
   "metadata": {},
   "outputs": [],
   "source": [
    "df['project_area'] = df['project_area'].str.replace('،','')"
   ]
  },
  {
   "cell_type": "code",
   "execution_count": 21,
   "id": "58337b6e-7b92-457c-9a60-9e8165e56119",
   "metadata": {},
   "outputs": [],
   "source": [
    "# drop the non numeric values\n",
    "df = df[df['project_area'] != \"مساحات\"]\n",
    "df = df[df['project_area'] != \"مختلفة\"]"
   ]
  },
  {
   "cell_type": "code",
   "execution_count": null,
   "id": "07c3e757-a23a-4aa5-b18a-fa9208771d63",
   "metadata": {},
   "outputs": [],
   "source": [
    "df['project_area'].unique()"
   ]
  },
  {
   "cell_type": "code",
   "execution_count": 22,
   "id": "585f097d-38c3-47a2-8750-d917e89c8d27",
   "metadata": {},
   "outputs": [],
   "source": [
    "# convert to numeric\n",
    "df[\"project_area\"] = pd.to_numeric(df[\"project_area\"])"
   ]
  },
  {
   "cell_type": "code",
   "execution_count": null,
   "id": "23101216-893f-436c-94cf-45a7845a7d61",
   "metadata": {},
   "outputs": [],
   "source": [
    "# fix the rest of the units\n",
    "df['unit'].unique()"
   ]
  },
  {
   "cell_type": "code",
   "execution_count": null,
   "id": "56674559-79de-4eb6-a0b9-26d8da706c65",
   "metadata": {},
   "outputs": [],
   "source": [
    "df['unit'].value_counts()"
   ]
  },
  {
   "cell_type": "code",
   "execution_count": 23,
   "id": "b9b3115b-582a-4a4d-ac6e-3d953a0574b6",
   "metadata": {},
   "outputs": [
    {
     "data": {
      "text/html": [
       "<div>\n",
       "<style scoped>\n",
       "    .dataframe tbody tr th:only-of-type {\n",
       "        vertical-align: middle;\n",
       "    }\n",
       "\n",
       "    .dataframe tbody tr th {\n",
       "        vertical-align: top;\n",
       "    }\n",
       "\n",
       "    .dataframe thead th {\n",
       "        text-align: right;\n",
       "    }\n",
       "</style>\n",
       "<table border=\"1\" class=\"dataframe\">\n",
       "  <thead>\n",
       "    <tr style=\"text-align: right;\">\n",
       "      <th></th>\n",
       "      <th>sectors</th>\n",
       "      <th>sector_budgets</th>\n",
       "      <th>sector_num_projects</th>\n",
       "      <th>name_project</th>\n",
       "      <th>type_project</th>\n",
       "      <th>budget_project</th>\n",
       "      <th>startday_project</th>\n",
       "      <th>enddate_project</th>\n",
       "      <th>area_project</th>\n",
       "      <th>region_project</th>\n",
       "      <th>status_project</th>\n",
       "      <th>project_area</th>\n",
       "      <th>unit</th>\n",
       "    </tr>\n",
       "  </thead>\n",
       "  <tbody>\n",
       "    <tr>\n",
       "      <th>807</th>\n",
       "      <td>Educational</td>\n",
       "      <td>567443636867</td>\n",
       "      <td>146</td>\n",
       "      <td>تلال جدة – Tilal Jeddah</td>\n",
       "      <td>Educational, Residential</td>\n",
       "      <td>4.200000e+10</td>\n",
       "      <td>NaN</td>\n",
       "      <td>NaN</td>\n",
       "      <td>000 25,000 متر مربع</td>\n",
       "      <td>منطقة مكة المكرمة, جدة</td>\n",
       "      <td>متعثر</td>\n",
       "      <td>0.0</td>\n",
       "      <td>25,000 متر مربع</td>\n",
       "    </tr>\n",
       "    <tr>\n",
       "      <th>1572</th>\n",
       "      <td>Residential</td>\n",
       "      <td>709916354518</td>\n",
       "      <td>394</td>\n",
       "      <td>تلال جدة – Tilal Jeddah</td>\n",
       "      <td>Educational, Residential</td>\n",
       "      <td>4.200000e+10</td>\n",
       "      <td>NaN</td>\n",
       "      <td>NaN</td>\n",
       "      <td>000 25,000 متر مربع</td>\n",
       "      <td>منطقة مكة المكرمة, جدة</td>\n",
       "      <td>متعثر</td>\n",
       "      <td>0.0</td>\n",
       "      <td>25,000 متر مربع</td>\n",
       "    </tr>\n",
       "  </tbody>\n",
       "</table>\n",
       "</div>"
      ],
      "text/plain": [
       "           sectors  sector_budgets  sector_num_projects  \\\n",
       "807    Educational    567443636867                  146   \n",
       "1572   Residential    709916354518                  394   \n",
       "\n",
       "                                   name_project              type_project  \\\n",
       "807   تلال جدة – Tilal Jeddah                    Educational, Residential   \n",
       "1572  تلال جدة – Tilal Jeddah                    Educational, Residential   \n",
       "\n",
       "      budget_project startday_project enddate_project         area_project  \\\n",
       "807     4.200000e+10              NaN             NaN  000 25,000 متر مربع   \n",
       "1572    4.200000e+10              NaN             NaN  000 25,000 متر مربع   \n",
       "\n",
       "              region_project status_project  project_area             unit  \n",
       "807   منطقة مكة المكرمة, جدة          متعثر           0.0  25,000 متر مربع  \n",
       "1572  منطقة مكة المكرمة, جدة          متعثر           0.0  25,000 متر مربع  "
      ]
     },
     "execution_count": 23,
     "metadata": {},
     "output_type": "execute_result"
    }
   ],
   "source": [
    "df[df['unit'] == '25,000 متر مربع'] "
   ]
  },
  {
   "cell_type": "code",
   "execution_count": 24,
   "id": "b8604a6f-c1de-4d72-98cb-6e9f12d711e9",
   "metadata": {},
   "outputs": [],
   "source": [
    "df.loc[df['unit'] == '25,000 متر مربع', 'unit'] = \"square meter\"\n",
    "df.loc[df['unit'] == '25,000 متر مربع', 'project_area'] = 25000\n",
    "\n",
    "df.loc[df['unit'] == 'ومائتي ألف متر مربع', 'unit'] = \"square meter\""
   ]
  },
  {
   "cell_type": "code",
   "execution_count": 25,
   "id": "2259a2a6-b405-41ae-959e-859275188486",
   "metadata": {},
   "outputs": [
    {
     "data": {
      "text/html": [
       "<div>\n",
       "<style scoped>\n",
       "    .dataframe tbody tr th:only-of-type {\n",
       "        vertical-align: middle;\n",
       "    }\n",
       "\n",
       "    .dataframe tbody tr th {\n",
       "        vertical-align: top;\n",
       "    }\n",
       "\n",
       "    .dataframe thead th {\n",
       "        text-align: right;\n",
       "    }\n",
       "</style>\n",
       "<table border=\"1\" class=\"dataframe\">\n",
       "  <thead>\n",
       "    <tr style=\"text-align: right;\">\n",
       "      <th></th>\n",
       "      <th>sectors</th>\n",
       "      <th>sector_budgets</th>\n",
       "      <th>sector_num_projects</th>\n",
       "      <th>name_project</th>\n",
       "      <th>type_project</th>\n",
       "      <th>budget_project</th>\n",
       "      <th>startday_project</th>\n",
       "      <th>enddate_project</th>\n",
       "      <th>area_project</th>\n",
       "      <th>region_project</th>\n",
       "      <th>status_project</th>\n",
       "      <th>project_area</th>\n",
       "      <th>unit</th>\n",
       "    </tr>\n",
       "  </thead>\n",
       "  <tbody>\n",
       "    <tr>\n",
       "      <th>1302</th>\n",
       "      <td>Governmental</td>\n",
       "      <td>1436611825301</td>\n",
       "      <td>461</td>\n",
       "      <td>مستشفى الملك عبدالله التخصصي للأطفال جدة – Kin...</td>\n",
       "      <td>Governmental, Health</td>\n",
       "      <td>NaN</td>\n",
       "      <td>01-09-2014</td>\n",
       "      <td>30-08-2017</td>\n",
       "      <td>1.075.982 lمترمربع</td>\n",
       "      <td>منطقة مكة المكرمة, جدة</td>\n",
       "      <td>متأخر</td>\n",
       "      <td>1075982.0</td>\n",
       "      <td>lمترمربع</td>\n",
       "    </tr>\n",
       "    <tr>\n",
       "      <th>2160</th>\n",
       "      <td>Health</td>\n",
       "      <td>549859453510</td>\n",
       "      <td>150</td>\n",
       "      <td>مستشفى الملك عبدالله التخصصي للأطفال جدة – Kin...</td>\n",
       "      <td>Governmental, Health</td>\n",
       "      <td>NaN</td>\n",
       "      <td>01-09-2014</td>\n",
       "      <td>30-08-2017</td>\n",
       "      <td>1.075.982 lمترمربع</td>\n",
       "      <td>منطقة مكة المكرمة, جدة</td>\n",
       "      <td>متأخر</td>\n",
       "      <td>1075982.0</td>\n",
       "      <td>lمترمربع</td>\n",
       "    </tr>\n",
       "  </tbody>\n",
       "</table>\n",
       "</div>"
      ],
      "text/plain": [
       "            sectors  sector_budgets  sector_num_projects  \\\n",
       "1302   Governmental   1436611825301                  461   \n",
       "2160         Health    549859453510                  150   \n",
       "\n",
       "                                           name_project          type_project  \\\n",
       "1302  مستشفى الملك عبدالله التخصصي للأطفال جدة – Kin...  Governmental, Health   \n",
       "2160  مستشفى الملك عبدالله التخصصي للأطفال جدة – Kin...  Governmental, Health   \n",
       "\n",
       "      budget_project startday_project enddate_project        area_project  \\\n",
       "1302             NaN       01-09-2014      30-08-2017  1.075.982 lمترمربع   \n",
       "2160             NaN       01-09-2014      30-08-2017  1.075.982 lمترمربع   \n",
       "\n",
       "              region_project status_project  project_area      unit  \n",
       "1302  منطقة مكة المكرمة, جدة          متأخر     1075982.0  lمترمربع  \n",
       "2160  منطقة مكة المكرمة, جدة          متأخر     1075982.0  lمترمربع  "
      ]
     },
     "execution_count": 25,
     "metadata": {},
     "output_type": "execute_result"
    }
   ],
   "source": [
    "df[df['unit'] == 'lمترمربع'] "
   ]
  },
  {
   "cell_type": "code",
   "execution_count": 26,
   "id": "50cffb12-2dae-4c5b-9584-ad46a15f7f50",
   "metadata": {},
   "outputs": [],
   "source": [
    "df.loc[df['unit'] == 'lمترمربع', 'unit'] = \"square meter\""
   ]
  },
  {
   "cell_type": "code",
   "execution_count": 27,
   "id": "db104986-2c5c-4087-b2eb-7832d8d6509f",
   "metadata": {},
   "outputs": [],
   "source": [
    "df['unit'] = df['unit'].replace(dict.fromkeys(['ألف م2', 'الف متر مربع', 'ألف متر مربع', 'الف م2', 'الاف متر مربع'], 'thousand square meter'))"
   ]
  },
  {
   "cell_type": "code",
   "execution_count": 28,
   "id": "4fffd7c8-e752-4341-be92-bb6582937d36",
   "metadata": {},
   "outputs": [
    {
     "data": {
      "text/html": [
       "<div>\n",
       "<style scoped>\n",
       "    .dataframe tbody tr th:only-of-type {\n",
       "        vertical-align: middle;\n",
       "    }\n",
       "\n",
       "    .dataframe tbody tr th {\n",
       "        vertical-align: top;\n",
       "    }\n",
       "\n",
       "    .dataframe thead th {\n",
       "        text-align: right;\n",
       "    }\n",
       "</style>\n",
       "<table border=\"1\" class=\"dataframe\">\n",
       "  <thead>\n",
       "    <tr style=\"text-align: right;\">\n",
       "      <th></th>\n",
       "      <th>sectors</th>\n",
       "      <th>sector_budgets</th>\n",
       "      <th>sector_num_projects</th>\n",
       "      <th>name_project</th>\n",
       "      <th>type_project</th>\n",
       "      <th>budget_project</th>\n",
       "      <th>startday_project</th>\n",
       "      <th>enddate_project</th>\n",
       "      <th>area_project</th>\n",
       "      <th>region_project</th>\n",
       "      <th>status_project</th>\n",
       "      <th>project_area</th>\n",
       "      <th>unit</th>\n",
       "    </tr>\n",
       "  </thead>\n",
       "  <tbody>\n",
       "    <tr>\n",
       "      <th>680</th>\n",
       "      <td>Tourist</td>\n",
       "      <td>672120928423</td>\n",
       "      <td>286</td>\n",
       "      <td>جزيرة النورس</td>\n",
       "      <td>Infrastructure, Commercial, Tourist</td>\n",
       "      <td>NaN</td>\n",
       "      <td>05-08-2013</td>\n",
       "      <td>NaN</td>\n",
       "      <td>23 هكتار</td>\n",
       "      <td>ينبع, منطقة المدينة المنورة</td>\n",
       "      <td>مكتمل</td>\n",
       "      <td>23.0</td>\n",
       "      <td>هكتار</td>\n",
       "    </tr>\n",
       "  </tbody>\n",
       "</table>\n",
       "</div>"
      ],
      "text/plain": [
       "      sectors  sector_budgets  sector_num_projects  \\\n",
       "680   Tourist    672120928423                  286   \n",
       "\n",
       "                       name_project                         type_project  \\\n",
       "680  جزيرة النورس                    Infrastructure, Commercial, Tourist   \n",
       "\n",
       "     budget_project startday_project enddate_project area_project  \\\n",
       "680             NaN       05-08-2013             NaN     23 هكتار   \n",
       "\n",
       "                  region_project status_project  project_area   unit  \n",
       "680  ينبع, منطقة المدينة المنورة          مكتمل          23.0  هكتار  "
      ]
     },
     "execution_count": 28,
     "metadata": {},
     "output_type": "execute_result"
    }
   ],
   "source": [
    "df[df['unit'] == 'هكتار'] "
   ]
  },
  {
   "cell_type": "code",
   "execution_count": 29,
   "id": "b6b0b064-6147-423f-8ef8-e09bcda483ed",
   "metadata": {},
   "outputs": [],
   "source": [
    "df['unit'] = df['unit'].replace('هكتار', 'Hectare')"
   ]
  },
  {
   "cell_type": "code",
   "execution_count": 30,
   "id": "0991edef-eb50-4251-8fc5-2db5e5e834fa",
   "metadata": {},
   "outputs": [],
   "source": [
    "#drop the row with unclear unit\n",
    "df = df[df['unit'] != \"م2 - 360 م2\"]"
   ]
  },
  {
   "cell_type": "code",
   "execution_count": 31,
   "id": "c4e1ed76-59fc-4f60-b4e8-1328807b936c",
   "metadata": {},
   "outputs": [
    {
     "data": {
      "text/plain": [
       "square meter             1329\n",
       "square kilometers          80\n",
       "thousand square meter      17\n",
       "acres                       3\n",
       "Hectare                     1\n",
       "Name: unit, dtype: int64"
      ]
     },
     "execution_count": 31,
     "metadata": {},
     "output_type": "execute_result"
    }
   ],
   "source": [
    "df['unit'].value_counts()"
   ]
  },
  {
   "cell_type": "code",
   "execution_count": 32,
   "id": "54f3dc9b-337d-4876-9721-344dac0236cc",
   "metadata": {},
   "outputs": [
    {
     "data": {
      "text/html": [
       "<div>\n",
       "<style scoped>\n",
       "    .dataframe tbody tr th:only-of-type {\n",
       "        vertical-align: middle;\n",
       "    }\n",
       "\n",
       "    .dataframe tbody tr th {\n",
       "        vertical-align: top;\n",
       "    }\n",
       "\n",
       "    .dataframe thead th {\n",
       "        text-align: right;\n",
       "    }\n",
       "</style>\n",
       "<table border=\"1\" class=\"dataframe\">\n",
       "  <thead>\n",
       "    <tr style=\"text-align: right;\">\n",
       "      <th></th>\n",
       "      <th>sectors</th>\n",
       "      <th>sector_budgets</th>\n",
       "      <th>sector_num_projects</th>\n",
       "      <th>name_project</th>\n",
       "      <th>type_project</th>\n",
       "      <th>budget_project</th>\n",
       "      <th>startday_project</th>\n",
       "      <th>enddate_project</th>\n",
       "      <th>area_project</th>\n",
       "      <th>region_project</th>\n",
       "      <th>status_project</th>\n",
       "      <th>project_area</th>\n",
       "      <th>unit</th>\n",
       "    </tr>\n",
       "  </thead>\n",
       "  <tbody>\n",
       "    <tr>\n",
       "      <th>680</th>\n",
       "      <td>Tourist</td>\n",
       "      <td>672120928423</td>\n",
       "      <td>286</td>\n",
       "      <td>جزيرة النورس</td>\n",
       "      <td>Infrastructure, Commercial, Tourist</td>\n",
       "      <td>NaN</td>\n",
       "      <td>05-08-2013</td>\n",
       "      <td>NaN</td>\n",
       "      <td>23 هكتار</td>\n",
       "      <td>ينبع, منطقة المدينة المنورة</td>\n",
       "      <td>مكتمل</td>\n",
       "      <td>23.0</td>\n",
       "      <td>Hectare</td>\n",
       "    </tr>\n",
       "  </tbody>\n",
       "</table>\n",
       "</div>"
      ],
      "text/plain": [
       "      sectors  sector_budgets  sector_num_projects  \\\n",
       "680   Tourist    672120928423                  286   \n",
       "\n",
       "                       name_project                         type_project  \\\n",
       "680  جزيرة النورس                    Infrastructure, Commercial, Tourist   \n",
       "\n",
       "     budget_project startday_project enddate_project area_project  \\\n",
       "680             NaN       05-08-2013             NaN     23 هكتار   \n",
       "\n",
       "                  region_project status_project  project_area     unit  \n",
       "680  ينبع, منطقة المدينة المنورة          مكتمل          23.0  Hectare  "
      ]
     },
     "execution_count": 32,
     "metadata": {},
     "output_type": "execute_result"
    }
   ],
   "source": [
    "df[df['unit'] == 'Hectare'] "
   ]
  },
  {
   "cell_type": "code",
   "execution_count": 33,
   "id": "e0edf6a3-8491-4ce5-bc20-cbcadad3258f",
   "metadata": {},
   "outputs": [
    {
     "data": {
      "text/plain": [
       "sectors                                            Tourist\n",
       "sector_budgets                                672120928423\n",
       "sector_num_projects                                    286\n",
       "name_project                جزيرة النورس                  \n",
       "type_project           Infrastructure, Commercial, Tourist\n",
       "budget_project                                         NaN\n",
       "startday_project                                05-08-2013\n",
       "enddate_project                                        NaN\n",
       "area_project                                      23 هكتار\n",
       "region_project                 ينبع, منطقة المدينة المنورة\n",
       "status_project                                       مكتمل\n",
       "project_area                                          23.0\n",
       "unit                                               Hectare\n",
       "Name: 680, dtype: object"
      ]
     },
     "execution_count": 33,
     "metadata": {},
     "output_type": "execute_result"
    }
   ],
   "source": [
    "df.iloc[679, :]"
   ]
  },
  {
   "cell_type": "code",
   "execution_count": 34,
   "id": "ba4048d0-0682-40d7-bdc5-79b7b805b5b1",
   "metadata": {},
   "outputs": [
    {
     "data": {
      "text/plain": [
       "sectors                                                  Commercial\n",
       "sector_budgets                                        1058790791316\n",
       "sector_num_projects                                             902\n",
       "name_project           سمارت سكوير – SMART SQUARE                  \n",
       "type_project                                      Hotel, Commercial\n",
       "budget_project                                                  NaN\n",
       "startday_project                                                NaN\n",
       "enddate_project                                                 NaN\n",
       "area_project                                             140 ألف م2\n",
       "region_project                                 منطقة الرياض, الرياض\n",
       "status_project                                             معلن عنه\n",
       "project_area                                                  140.0\n",
       "unit                                          thousand square meter\n",
       "Name: 81, dtype: object"
      ]
     },
     "execution_count": 34,
     "metadata": {},
     "output_type": "execute_result"
    }
   ],
   "source": [
    "df.iloc[81, :]"
   ]
  },
  {
   "cell_type": "code",
   "execution_count": 35,
   "id": "c2fe612c-c16c-4000-a7e4-a02793820576",
   "metadata": {},
   "outputs": [
    {
     "data": {
      "text/plain": [
       "sectors                                                       Commercial\n",
       "sector_budgets                                             1058790791316\n",
       "sector_num_projects                                                  902\n",
       "name_project                          القدية – Qiddiya                  \n",
       "type_project           Hotel, Infrastructure, Commercial, Tourist, Sp...\n",
       "budget_project                                                       NaN\n",
       "startday_project                                              29-04-2018\n",
       "enddate_project                                                      NaN\n",
       "area_project                                                     334 كلم\n",
       "region_project                                                    القدية\n",
       "status_project                                               تحت الإنشاء\n",
       "project_area                                                       334.0\n",
       "unit                                                   square kilometers\n",
       "Name: 85, dtype: object"
      ]
     },
     "execution_count": 35,
     "metadata": {},
     "output_type": "execute_result"
    }
   ],
   "source": [
    "df.iloc[85, :]"
   ]
  },
  {
   "cell_type": "code",
   "execution_count": 36,
   "id": "39c3e8e0-b415-46a2-bf50-130d6ebe2931",
   "metadata": {},
   "outputs": [],
   "source": [
    "#convert all units to squear meter\n",
    "d = {'square meter': {'square meter': 1, 'square kilometers': 1000000, 'thousand square meter': 1000 ,'acres':4046.85642 , 'Hectare':10000}}\n",
    "\n",
    "for area, unit in [('project_area', 'square meter')]:\n",
    "    df[area] = df[area] * df['unit'].map(d[unit])\n",
    "    df['unit'] = unit"
   ]
  },
  {
   "cell_type": "markdown",
   "id": "b392ee01-c204-4fae-a69f-f115f739ad46",
   "metadata": {},
   "source": [
    "---"
   ]
  },
  {
   "cell_type": "markdown",
   "id": "680ff11a-0ccd-480b-826a-b1bf1a1c130d",
   "metadata": {},
   "source": [
    "##### The region_project Column"
   ]
  },
  {
   "cell_type": "code",
   "execution_count": 37,
   "id": "ef603a78-883c-4b80-b79f-72e304645aee",
   "metadata": {},
   "outputs": [
    {
     "name": "stderr",
     "output_type": "stream",
     "text": [
      "<ipython-input-37-c2060ebcb30d>:54: FutureWarning: The default value of regex will change from True to False in a future version.\n",
      "  df['region_project'] = df['region_project'].str.replace('منطقة مكة المكرمة, منطقة جازان, مدينة جازان للصناعات الاساسية والتحويلية, الفيصلية, الليث, الشعيبة, ...','MECCA, JAZAN, JAZAN CITY, FAISALIYA, ALLAIT, SHUABAH')\n",
      "<ipython-input-37-c2060ebcb30d>:65: FutureWarning: The default value of regex will change from True to False in a future version.\n",
      "  df['region_project'] = df['region_project'].str.replace('وعد الشمال, منطقة القصيم, منطقة الجوف, منطقة الحدود الشمالية, منطقة الرياض, منطقة حائل, مدينة سدير ل...','NORTH PROVINCE, JAWF, RIYADH, HAIL, SDAIR')\n"
     ]
    }
   ],
   "source": [
    "df['region_project'] = df['region_project'].str.replace('المنطقة الشرقية, الدمام','ALDAMMAM')\n",
    "df['region_project'] = df['region_project'].str.replace('منطقة الرياض, الرياض','RIYADH')\n",
    "df['region_project'] = df['region_project'].str.replace('المنطقة الشرقية, الأحساء','ALHASSA')\n",
    "df['region_project'] = df['region_project'].str.replace('منطقة مكة المكرمة, جدة','JEDDAH')\n",
    "df['region_project'] = df['region_project'].str.replace('منطقة مكة المكرمة, الطائف','ALTAIF')\n",
    "df['region_project'] = df['region_project'].str.replace('منطقة مكة المكرمة, مدينة الملك عبدالله الاقتصادية','KING ABDULLAH CITY')\n",
    "df['region_project'] = df['region_project'].str.replace('منطقة عسير, أبها','ABHA')\n",
    "df['region_project'] = df['region_project'].str.replace('نجران, منطقة نجران','NAJRAN')\n",
    "df['region_project'] = df['region_project'].str.replace('مكة المكرمة, منطقة مكة المكرمة','MECCA')\n",
    "df['region_project'] = df['region_project'].str.replace('المنطقة الشرقية, الخبر','ALKHOBAR')\n",
    "df['region_project'] = df['region_project'].str.replace('منطقة القصيم, بريدة','BRAIDAH')\n",
    "df['region_project'] = df['region_project'].str.replace('منطقة عسير, بيشة','BISHA')\n",
    "df['region_project'] = df['region_project'].str.replace('منطقة الباحة, بلجرشي','BALJURASHI')\n",
    "df['region_project'] = df['region_project'].str.replace('منطقة جازان, جازان','JAZAN')\n",
    "df['region_project'] = df['region_project'].str.replace('منطقة تبوك, شرما','SHARMA')\n",
    "df['region_project'] = df['region_project'].str.replace('منطقة المدينة المنورة, المدينة المنورة','MEDINA')\n",
    "df['region_project'] = df['region_project'].str.replace('منطقة الباحة, الباحة','ALBAHA')\n",
    "df['region_project'] = df['region_project'].str.replace('القدية','QIDDIYA')\n",
    "df['region_project'] = df['region_project'].str.replace('المنطقة الشرقية, الجبيل','AL-JUBAIL')\n",
    "df['region_project'] = df['region_project'].str.replace('منطقة القصيم, بريدة','BURAYDAH')\n",
    "df['region_project'] = df['region_project'].str.replace('منطقة القصيم, عنيزة','UNAYZAH')\n",
    "df['region_project'] = df['region_project'].str.replace('منطقة الحدود الشمالية, عرعر','ARAR')\n",
    "df['region_project'] = df['region_project'].str.replace('وعد الشمال, منطقة الحدود الشمالية','WAAD ALSHAMAL')\n",
    "df['region_project'] = df['region_project'].str.replace('منطقة الرياض, الدرعية','AD DIRIYAH')\n",
    "df['region_project'] = df['region_project'].str.replace('المنطقة الشرقية, الجبيل الصناعية','ALJUBAIL INDUSTRIAL')\n",
    "df['region_project'] = df['region_project'].str.replace('منطقة حائل, حائل','HAIL')\n",
    "df['region_project'] = df['region_project'].str.replace('منطقة الرياض, المزاحمية','ALMUZAHMIYA')\n",
    "df['region_project'] = df['region_project'].str.replace('منطقة القصيم, الرس','ARRASS')\n",
    "df['region_project'] = df['region_project'].str.replace('ينبع, الأحساء, الجبيل الصناعية, الخرج, الطائف, عنيزة','YANBAA, ALHASSA, ALJUBAIL INDUSTRIAL, ALKHARJ, ALTAIF, UNAYZAH')\n",
    "df['region_project'] = df['region_project'].str.replace('منطقة الرياض, مدينة سدير للصناعة والأعمال','SDAIR')\n",
    "df['region_project'] = df['region_project'].str.replace('منطقة تبوك','TABUK')\n",
    "df['region_project'] = df['region_project'].str.replace('المنطقة الشرقية, الظهران','ALDHAHRAN')\n",
    "df['region_project'] = df['region_project'].str.replace('منطقة الرياض, الخرج','ALKHARJ')\n",
    "df['region_project'] = df['region_project'].str.replace('منطقة الرياض, القويعية','Al QUWAIIYAH')\n",
    "df['region_project'] = df['region_project'].str.replace('منطقة تبوك, ضبا','DUBA')\n",
    "df['region_project'] = df['region_project'].str.replace('منطقة الرياض, الأفلاج','LAYLA')\n",
    "df['region_project'] = df['region_project'].str.replace('منطقة تبوك, أملج','UMLUJ')\n",
    "df['region_project'] = df['region_project'].str.replace('الأحساء','ALHASSA')\n",
    "df['region_project'] = df['region_project'].str.replace('منطقة الرياض, شقراء','SHAQRA')\n",
    "df['region_project'] = df['region_project'].str.replace('منطقة الجوف, طبرجل','TUBARJAL')\n",
    "df['region_project'] = df['region_project'].str.replace('منطقة الجوف, دومة الجندل','Dumah Al Jandal')\n",
    "df['region_project'] = df['region_project'].str.replace('منطقة تبوك','TABUK')\n",
    "df['region_project'] = df['region_project'].str.replace('المنطقة الشرقية, حفر الباطن','HAFAR ALBATIN')\n",
    "df['region_project'] = df['region_project'].str.replace('منطقة مكة المكرمة, ثول','THUWAL')\n",
    "df['region_project'] = df['region_project'].str.replace('منطقة المدينة المنورة, العلا','ALULA')\n",
    "df['region_project'] = df['region_project'].str.replace('منطقة الجوف, القريات','ALQURAYYAT')\n",
    "df['region_project'] = df['region_project'].str.replace('منطقة مكة المكرمة, بحرة','BAHRAH')\n",
    "df['region_project'] = df['region_project'].str.replace('منطقة الجوف, سكاكا','SAKAKA')\n",
    "df['region_project'] = df['region_project'].str.replace('المنطقة الشرقية, الخفجي','ALKHAFJI')\n",
    "df['region_project'] = df['region_project'].str.replace('منطقة مكة المكرمة, رابغ','RABIGH')\n",
    "df['region_project'] = df['region_project'].str.replace('مكة المكرمة, منطقة مكة المكرمة, منطقة الرياض, المزاحمية, البرابر, الجموم, الرياض, جدة','MECCA, RIYADH, ALMUZAHMIYA, ALBARABIR, ALJMOOM, JEDDAH')\n",
    "df['region_project'] = df['region_project'].str.replace('منطقة حائل, الغزالة','ALGHAZALA')\n",
    "df['region_project'] = df['region_project'].str.replace('منطقة مكة المكرمة, القنفذة','Al QUNFUDHAH')\n",
    "df['region_project'] = df['region_project'].str.replace('منطقة مكة المكرمة, منطقة جازان, مدينة جازان للصناعات الاساسية والتحويلية, الفيصلية, الليث, الشعيبة, ...','MECCA, JAZAN, JAZAN CITY, FAISALIYA, ALLAIT, SHUABAH')\n",
    "df['region_project'] = df['region_project'].str.replace('منطقة القصيم, منطقة الرياض, المنطقة الشرقية, الجبيل','ALQASEEM, RIYADH, EASTERN PROVINCE, ALJUBAIL')\n",
    "df['region_project'] = df['region_project'].str.replace('مكة المكرمة, منطقة مكة المكرمة, منطقة القصيم','MECCA, ALQASEEM')\n",
    "df['region_project'] = df['region_project'].str.replace('منطقة مكة المكرمة, الجموم','ALJUMUM')\n",
    "df['region_project'] = df['region_project'].str.replace('منطقة مكة المكرمة, منطقة الرياض, منطقة عسير, محايل عسير, المنطقة الشرقية, الدمام, الرياض, جدة','MECCA, RIYADH, ASEER, EASTERN PROVINCE, ALDAMAM, JEDDAH')\n",
    "df['region_project'] = df['region_project'].str.replace('منطقة الرياض, المنطقة الشرقية, الدمام, الرياض','ALDAMAM, RIYADH')\n",
    "df['region_project'] = df['region_project'].str.replace('منطقة مكة المكرمة, الكامل','ALKAMIL')\n",
    "df['region_project'] = df['region_project'].str.replace('منطقة المدينة المنورة, منطقة حائل, المدينة المنورة, حائل','MEDINA, HAIL')\n",
    "df['region_project'] = df['region_project'].str.replace('منطقة الباحة','ALBAHA')\n",
    "df['region_project'] = df['region_project'].str.replace('منطقة المدينة المنورة, بدر','BADR')\n",
    "df['region_project'] = df['region_project'].str.replace('مكة المكرمة, مدينة الملك عبدالله الاقتصادية, المدينة المنورة, جدة','MECCA, KING ABDULLAH CITY, MEDINA, JEDDAH')\n",
    "df['region_project'] = df['region_project'].str.replace('وعد الشمال, منطقة القصيم, منطقة الجوف, منطقة الحدود الشمالية, منطقة الرياض, منطقة حائل, مدينة سدير ل...','NORTH PROVINCE, JAWF, RIYADH, HAIL, SDAIR')\n",
    "df['region_project'] = df['region_project'].str.replace('المنطقة الشرقية, الجبيل, الجبيل الصناعية','EASTERN PROVINCE, JUBAIL, JUBAIL INDUSTRIAL')\n",
    "df['region_project'] = df['region_project'].str.replace('منطقة عسير, محايل عسير','MUHAYIL ASEER')\n",
    "df['region_project'] = df['region_project'].str.replace('منطقة جازان, مدينة جازان للصناعات الاساسية والتحويلية','JAZAN')\n",
    "df['region_project'] = df['region_project'].str.replace('منطقة القصيم, رياض الخبراء','ALQASEEM')\n",
    "df['region_project'] = df['region_project'].str.replace('منطقة المدينة المنورة, الحناكية','ALHENAKIYA')\n",
    "df['region_project'] = df['region_project'].str.replace('ينبع, منطقة المدينة المنورة','YANBAA')\n",
    "df['region_project'] = df['region_project'].str.replace('المنطقة الشرقية, رأس الخير','RAS ALKHAIR')\n",
    "df['region_project'] = df['region_project'].str.replace('منطقة الحدود الشمالية, طريف','TURAIF')\n",
    "df['region_project'] = df['region_project'].str.replace('المنطقة الشرقية, جزيرة تاروت','TAROUT ISLAND')\n",
    "df['region_project'] = df['region_project'].str.replace('منطقة الباحة','ALBAHA')\n",
    "df['region_project'] = df['region_project'].str.replace('ضبا','DHUBA')\n",
    "df['region_project'] = df['region_project'].str.replace('وادي الدواسر, منطقة الرياض','RIYADH')\n",
    "df['region_project'] = df['region_project'].str.replace('الرياض','RIYADH')\n",
    "df['region_project'] = df['region_project'].str.replace('AL-JUBAIL الصناعية','ALJUBAIL')\n",
    "df['region_project'] = df['region_project'].str.replace('مكة المكرمة, الطائف','MECCA, TAIF')\n",
    "df['region_project'] = df['region_project'].str.replace('منطقة عسير, خميس مشيط','ASEER, KAHMIS MUSHAIT')\n",
    "df['region_project'] = df['region_project'].str.replace('منطقة RIYADH, المجمعة','ALMUJMAA')\n",
    "df['region_project'] = df['region_project'].str.replace('فيفاء, منطقة جازان','FEIFAA')\n",
    "df['region_project'] = df['region_project'].str.replace('MECCA, ALMUZAHMIYA, البرابر, الجموم, RIYADH, جدة','MECCA, ALMUZAHMIYA, ALJMUM, ALBARABIR, RIYADH, JEDDAH')\n",
    "df['region_project'] = df['region_project'].str.replace('منطقة جازان','ALJAZAN')\n",
    "df['region_project'] = df['region_project'].str.replace(' تبوك RIYADH', 'TABUK')\n",
    "df['region_project'] = df['region_project'].str.replace('TABUK, تبوك','TABUK')\n",
    "df['region_project'] = df['region_project'].str.replace('منطقة RIYADH','RIYADH')\n",
    "df['region_project'] = df['region_project'].str.replace('MECCA, JAZAN, JAZAN CITY, FAISALIYA, ALLAIT, SHUABAHان, جدة','JEDDAH, SHUABAH, ALLAIT, FAISALIYA, JAZAN, MECCA')\n",
    "df['region_project'] = df['region_project'].str.replace('منطقة نجران','NAJRAN')\n",
    "df['region_project'] = df['region_project'].str.replace('MECCA, منطقة القصيم','ALQASEEM, MECCA')\n",
    "df['region_project'] = df['region_project'].str.replace('منطقة القصيم, RIYADH, AL-JUBAIL','ALJUBAIL, RIYADH, ALQASEEM')\n",
    "df['region_project'] = df['region_project'].str.replace('منطقة مكة المكرمة, RIYADH, MUHAYIL ASEER, ALDAMMAM, RIYADH, جدة','JEDDAH, RIYADH, ALDAMAM, MUHAYIL ASEER, MECCA')\n",
    "df['region_project'] = df['region_project'].str.replace('منطقة مكة المكرمة, تربة','TURBAH')\n",
    "df['region_project'] = df['region_project'].str.replace('RIYADH, عفيف','AFEEF')\n",
    "df['region_project'] = df['region_project'].str.replace('الجبيل, الجبيل الصناعية','ALJUBAIL')\n",
    "df['region_project'] = df['region_project'].str.replace('حائل','HAIL')\n",
    "df['region_project'] = df['region_project'].str.replace('المنطقة الشرقية','EASTERN PROVINCE')\n",
    "df['region_project'] = df['region_project'].str.replace('NORTH PROVINCE, JAWF, RIYADH, HAIL, SDAIRاعة والأعمال, المجمعة, RIYADH, بريدة, HAIL, عرعر','ARAR, RIYADH, BURAYDAH, HAIL, ALMUJMAA, SDAIR, JAWF, EASTERN PROVINCE')\n",
    "df['region_project'] = df['region_project'].str.replace('AL-JUBAIL, الجبيل الصناعية','ALJUBAIL')\n",
    "df['region_project'] = df['region_project'].str.replace('القطيف, EASTERN PROVINCE','ALQATEEF, EASTERN PROVINCE')\n",
    "df['region_project'] = df['region_project'].str.replace('جدة','JEDDAH')\n",
    "df['region_project'] = df['region_project'].str.replace('منطقة مكة المكرمة, الليث','ALLAIT')\n",
    "df['region_project'] = df['region_project'].str.replace('مكة المكرمة, JEDDAH','JEDDAH, MECCA')\n",
    "df['region_project'] = df['region_project'].str.replace('منطقة المدينة المنورة','MADENAH')\n",
    "df['region_project'] = df['region_project'].str.replace('منطقة عسير','ASEER')\n",
    "df['region_project'] = df['region_project'].str.replace('ALJAZAN, الشقيق','ALJAZAN, ALSHAQEEQ')\n",
    "df['region_project'] = df['region_project'].str.replace('منطقة HAIL','HAIL')\n",
    "df['region_project'] = df['region_project'].str.replace('منطقة عسير','ASEER')"
   ]
  },
  {
   "cell_type": "markdown",
   "id": "ca265676-358f-4cc1-97fe-30bdfb5d136f",
   "metadata": {},
   "source": [
    "---"
   ]
  },
  {
   "cell_type": "markdown",
   "id": "79cf3035-2641-49ee-b7bc-017d1f1d7952",
   "metadata": {},
   "source": [
    "##### The status_project Column"
   ]
  },
  {
   "cell_type": "code",
   "execution_count": 38,
   "id": "350f52f1-a166-4fde-8458-8312d62509b5",
   "metadata": {},
   "outputs": [
    {
     "data": {
      "text/plain": [
       "تحت الإنشاء          711\n",
       "مكتمل                447\n",
       "معلن عنه             433\n",
       "متأخر                347\n",
       "المشاريع المقترحة    162\n",
       "متعثر                 63\n",
       "ملغي                  16\n",
       "Name: status_project, dtype: int64"
      ]
     },
     "execution_count": 38,
     "metadata": {},
     "output_type": "execute_result"
    }
   ],
   "source": [
    "df[\"status_project\"].value_counts()"
   ]
  },
  {
   "cell_type": "code",
   "execution_count": 39,
   "id": "c0cb04a9-2aaa-4576-b87e-5eb39bdc7b86",
   "metadata": {},
   "outputs": [],
   "source": [
    "df['status_project'] = df['status_project'].str.replace('تحت الإنشاء','Under the construction')\n",
    "df['status_project'] = df['status_project'].str.replace('مكتمل','Complete')\n",
    "df['status_project'] = df['status_project'].str.replace('معلن عنه','Announced')\n",
    "df['status_project'] = df['status_project'].str.replace('متأخر','Late')\n",
    "df['status_project'] = df['status_project'].str.replace('المشاريع المقترحة','Suggested projects')\n",
    "df['status_project'] = df['status_project'].str.replace('متعثر','Stumbled')\n",
    "df['status_project'] = df['status_project'].str.replace('ملغي','Canceled')"
   ]
  },
  {
   "cell_type": "code",
   "execution_count": 40,
   "id": "adb2d5f6-edc9-4f5c-be98-c9fc0ae2f0c4",
   "metadata": {},
   "outputs": [
    {
     "data": {
      "text/plain": [
       "array(['Under the construction', 'Complete', 'Announced',\n",
       "       'Suggested projects', 'Late', 'Stumbled', 'Canceled'], dtype=object)"
      ]
     },
     "execution_count": 40,
     "metadata": {},
     "output_type": "execute_result"
    }
   ],
   "source": [
    "df.status_project.unique()"
   ]
  },
  {
   "cell_type": "markdown",
   "id": "bcbb232b-12dc-4b3d-b0f4-b3c746e5c0f9",
   "metadata": {},
   "source": [
    "---"
   ]
  },
  {
   "cell_type": "code",
   "execution_count": 44,
   "id": "92eb8422-a6bc-484b-9f05-7f886644dbc8",
   "metadata": {},
   "outputs": [],
   "source": [
    "df.to_csv(r\"saudi_projects_updated.csv\")"
   ]
  },
  {
   "cell_type": "markdown",
   "id": "e78da5b0-ffc6-4270-a7b7-f40304c3a9db",
   "metadata": {},
   "source": [
    "## EDA"
   ]
  },
  {
   "cell_type": "code",
   "execution_count": 60,
   "id": "39f80433-fd30-40e7-b89d-6c88e4a142c8",
   "metadata": {},
   "outputs": [
    {
     "data": {
      "text/html": [
       "<div>\n",
       "<style scoped>\n",
       "    .dataframe tbody tr th:only-of-type {\n",
       "        vertical-align: middle;\n",
       "    }\n",
       "\n",
       "    .dataframe tbody tr th {\n",
       "        vertical-align: top;\n",
       "    }\n",
       "\n",
       "    .dataframe thead th {\n",
       "        text-align: right;\n",
       "    }\n",
       "</style>\n",
       "<table border=\"1\" class=\"dataframe\">\n",
       "  <thead>\n",
       "    <tr style=\"text-align: right;\">\n",
       "      <th></th>\n",
       "      <th>sectors</th>\n",
       "      <th>sector_budgets</th>\n",
       "      <th>sector_num_projects</th>\n",
       "      <th>name_project</th>\n",
       "      <th>type_project</th>\n",
       "      <th>budget_project</th>\n",
       "      <th>startday_project</th>\n",
       "      <th>enddate_project</th>\n",
       "      <th>area_project</th>\n",
       "      <th>region_project</th>\n",
       "      <th>status_project</th>\n",
       "      <th>project_area</th>\n",
       "      <th>unit</th>\n",
       "    </tr>\n",
       "  </thead>\n",
       "  <tbody>\n",
       "    <tr>\n",
       "      <th>0</th>\n",
       "      <td>Commercial</td>\n",
       "      <td>1058790791316</td>\n",
       "      <td>902</td>\n",
       "      <td>برج غرفة الشرقية الاستثماري – Asharqia Chamber...</td>\n",
       "      <td>Commercial</td>\n",
       "      <td>3.350000e+08</td>\n",
       "      <td>03-07-2019</td>\n",
       "      <td>31-12-2021</td>\n",
       "      <td>7,752 متر مربع</td>\n",
       "      <td>ALDAMMAM</td>\n",
       "      <td>Under the construction</td>\n",
       "      <td>7752.0</td>\n",
       "      <td>square meter</td>\n",
       "    </tr>\n",
       "    <tr>\n",
       "      <th>1</th>\n",
       "      <td>Commercial</td>\n",
       "      <td>1058790791316</td>\n",
       "      <td>902</td>\n",
       "      <td>مقر برايس ووتر هاوس كوبرز – PWC Headquarter   ...</td>\n",
       "      <td>Commercial, Residential</td>\n",
       "      <td>NaN</td>\n",
       "      <td>01-01-2010</td>\n",
       "      <td>NaN</td>\n",
       "      <td>8,000 متر مربع</td>\n",
       "      <td>RIYADH</td>\n",
       "      <td>Under the construction</td>\n",
       "      <td>8000.0</td>\n",
       "      <td>square meter</td>\n",
       "    </tr>\n",
       "    <tr>\n",
       "      <th>2</th>\n",
       "      <td>Commercial</td>\n",
       "      <td>1058790791316</td>\n",
       "      <td>902</td>\n",
       "      <td>مقر المدفوعات السعودية – Saudi Payment Headqua...</td>\n",
       "      <td>Commercial, Residential</td>\n",
       "      <td>1.178000e+09</td>\n",
       "      <td>01-01-2009</td>\n",
       "      <td>31-12-2014</td>\n",
       "      <td>19,500 متر مربع</td>\n",
       "      <td>RIYADH</td>\n",
       "      <td>Complete</td>\n",
       "      <td>19500.0</td>\n",
       "      <td>square meter</td>\n",
       "    </tr>\n",
       "    <tr>\n",
       "      <th>3</th>\n",
       "      <td>Commercial</td>\n",
       "      <td>1058790791316</td>\n",
       "      <td>902</td>\n",
       "      <td>الاحساء ستريب مول – Ahsa Strip Mall           ...</td>\n",
       "      <td>Commercial</td>\n",
       "      <td>NaN</td>\n",
       "      <td>NaN</td>\n",
       "      <td>NaN</td>\n",
       "      <td>19,888 متر مربع</td>\n",
       "      <td>ALHASSA</td>\n",
       "      <td>Announced</td>\n",
       "      <td>19888.0</td>\n",
       "      <td>square meter</td>\n",
       "    </tr>\n",
       "    <tr>\n",
       "      <th>4</th>\n",
       "      <td>Commercial</td>\n",
       "      <td>1058790791316</td>\n",
       "      <td>902</td>\n",
       "      <td>برج الدايل – Al-Dailh Tower</td>\n",
       "      <td>Hotel, Commercial</td>\n",
       "      <td>1.200000e+08</td>\n",
       "      <td>01-06-2019</td>\n",
       "      <td>31-03-2022</td>\n",
       "      <td>3,651 متر مربع</td>\n",
       "      <td>JEDDAH</td>\n",
       "      <td>Under the construction</td>\n",
       "      <td>3651.0</td>\n",
       "      <td>square meter</td>\n",
       "    </tr>\n",
       "  </tbody>\n",
       "</table>\n",
       "</div>"
      ],
      "text/plain": [
       "       sectors  sector_budgets  sector_num_projects  \\\n",
       "0   Commercial   1058790791316                  902   \n",
       "1   Commercial   1058790791316                  902   \n",
       "2   Commercial   1058790791316                  902   \n",
       "3   Commercial   1058790791316                  902   \n",
       "4   Commercial   1058790791316                  902   \n",
       "\n",
       "                                        name_project             type_project  \\\n",
       "0  برج غرفة الشرقية الاستثماري – Asharqia Chamber...               Commercial   \n",
       "1  مقر برايس ووتر هاوس كوبرز – PWC Headquarter   ...  Commercial, Residential   \n",
       "2  مقر المدفوعات السعودية – Saudi Payment Headqua...  Commercial, Residential   \n",
       "3  الاحساء ستريب مول – Ahsa Strip Mall           ...               Commercial   \n",
       "4      برج الدايل – Al-Dailh Tower                          Hotel, Commercial   \n",
       "\n",
       "   budget_project startday_project enddate_project     area_project  \\\n",
       "0    3.350000e+08       03-07-2019      31-12-2021   7,752 متر مربع   \n",
       "1             NaN       01-01-2010             NaN   8,000 متر مربع   \n",
       "2    1.178000e+09       01-01-2009      31-12-2014  19,500 متر مربع   \n",
       "3             NaN              NaN             NaN  19,888 متر مربع   \n",
       "4    1.200000e+08       01-06-2019      31-03-2022   3,651 متر مربع   \n",
       "\n",
       "  region_project          status_project  project_area          unit  \n",
       "0       ALDAMMAM  Under the construction        7752.0  square meter  \n",
       "1         RIYADH  Under the construction        8000.0  square meter  \n",
       "2         RIYADH                Complete       19500.0  square meter  \n",
       "3        ALHASSA               Announced       19888.0  square meter  \n",
       "4         JEDDAH  Under the construction        3651.0  square meter  "
      ]
     },
     "execution_count": 60,
     "metadata": {},
     "output_type": "execute_result"
    }
   ],
   "source": [
    "df.head()"
   ]
  },
  {
   "cell_type": "code",
   "execution_count": 61,
   "id": "660570e3-922e-4926-8932-20d2c20ef410",
   "metadata": {},
   "outputs": [
    {
     "name": "stdout",
     "output_type": "stream",
     "text": [
      "<class 'pandas.core.frame.DataFrame'>\n",
      "Int64Index: 2179 entries, 0 to 2181\n",
      "Data columns (total 13 columns):\n",
      " #   Column               Non-Null Count  Dtype  \n",
      "---  ------               --------------  -----  \n",
      " 0   sectors              2179 non-null   object \n",
      " 1   sector_budgets       2179 non-null   int64  \n",
      " 2   sector_num_projects  2179 non-null   int64  \n",
      " 3   name_project         2179 non-null   object \n",
      " 4   type_project         2179 non-null   object \n",
      " 5   budget_project       847 non-null    float64\n",
      " 6   startday_project     1185 non-null   object \n",
      " 7   enddate_project      921 non-null    object \n",
      " 8   area_project         1692 non-null   object \n",
      " 9   region_project       2178 non-null   object \n",
      " 10  status_project       2179 non-null   object \n",
      " 11  project_area         1430 non-null   float64\n",
      " 12  unit                 2179 non-null   object \n",
      "dtypes: float64(2), int64(2), object(9)\n",
      "memory usage: 238.3+ KB\n"
     ]
    }
   ],
   "source": [
    "df.info()"
   ]
  },
  {
   "cell_type": "code",
   "execution_count": 52,
   "id": "83addb4e-ac9f-4cd8-848d-805a4dbb556d",
   "metadata": {},
   "outputs": [
    {
     "data": {
      "image/png": "[encoded data removed]",
      "text/plain": [
       "<Figure size 871.125x720 with 20 Axes>"
      ]
     },
     "metadata": {
      "needs_background": "light"
     },
     "output_type": "display_data"
    }
   ],
   "source": [
    "# grid of plots for each variable in the dataset\n",
    "\n",
    "g = sns.pairplot(df, hue=\"status_project\", palette=\"husl\")"
   ]
  },
  {
   "cell_type": "code",
   "execution_count": 74,
   "id": "f60f9768-c411-4101-b5a7-e3a66970ae17",
   "metadata": {},
   "outputs": [
    {
     "data": {
      "text/plain": [
       "<seaborn.axisgrid.FacetGrid at 0x7f8175961a30>"
      ]
     },
     "execution_count": 74,
     "metadata": {},
     "output_type": "execute_result"
    },
    {
     "data": {
      "image/png": "[encoded data removed]",
      "text/plain": [
       "<Figure size 785.25x360 with 1 Axes>"
      ]
     },
     "metadata": {
      "needs_background": "light"
     },
     "output_type": "display_data"
    }
   ],
   "source": [
    "# scatter plot to show relationship between project budget and status in which sector \n",
    "\n",
    "sns.relplot(x=\"status_project\", y=\"budget_project\", hue=\"sectors\", s=80, data=df, height=5, aspect=15/8)"
   ]
  },
  {
   "cell_type": "code",
   "execution_count": 53,
   "id": "6806fdf1-6534-4849-91ca-9c7405d1bb92",
   "metadata": {},
   "outputs": [
    {
     "name": "stderr",
     "output_type": "stream",
     "text": [
      "C:\\Users\\assoma\\anaconda3\\lib\\site-packages\\seaborn\\distributions.py:2557: FutureWarning: `distplot` is a deprecated function and will be removed in a future version. Please adapt your code to use either `displot` (a figure-level function with similar flexibility) or `histplot` (an axes-level function for histograms).\n",
      "  warnings.warn(msg, FutureWarning)\n"
     ]
    },
    {
     "data": {
      "text/plain": [
       "<AxesSubplot:xlabel='sector_budgets', ylabel='Density'>"
      ]
     },
     "execution_count": 53,
     "metadata": {},
     "output_type": "execute_result"
    },
    {
     "data": {
      "image/png": "[encoded data removed]",
      "text/plain": [
       "<Figure size 432x288 with 1 Axes>"
      ]
     },
     "metadata": {
      "needs_background": "light"
     },
     "output_type": "display_data"
    }
   ],
   "source": [
    "# histogram distribution of sector budgets \n",
    "\n",
    "sns.distplot(df[\"sector_budgets\"])"
   ]
  },
  {
   "cell_type": "code",
   "execution_count": 55,
   "id": "4cd1023f-937f-4d8f-a403-56e3b14a59c7",
   "metadata": {},
   "outputs": [
    {
     "data": {
      "text/plain": [
       "<seaborn.axisgrid.FacetGrid at 0x27313b07250>"
      ]
     },
     "execution_count": 55,
     "metadata": {},
     "output_type": "execute_result"
    },
    {
     "data": {
      "image/png": "[encoded data removed]",
      "text/plain": [
       "<Figure size 360x360 with 1 Axes>"
      ]
     },
     "metadata": {
      "needs_background": "light"
     },
     "output_type": "display_data"
    }
   ],
   "source": [
    "# box plot \n",
    "\n",
    "sns.catplot(x=\"sector_budgets\", kind=\"box\", data=df)"
   ]
  },
  {
   "cell_type": "code",
   "execution_count": 56,
   "id": "a8ab6dec-3d65-466c-bc9a-2aaf4fc5add0",
   "metadata": {},
   "outputs": [],
   "source": [
    "# heat map\n",
    "\n",
    "corelation = df.corr()"
   ]
  },
  {
   "cell_type": "code",
   "execution_count": 57,
   "id": "398e2793-b922-4e8b-a7b8-53854fbd9b9e",
   "metadata": {},
   "outputs": [
    {
     "data": {
      "text/plain": [
       "<AxesSubplot:>"
      ]
     },
     "execution_count": 57,
     "metadata": {},
     "output_type": "execute_result"
    },
    {
     "data": {
      "image/png": "[encoded data removed]",
      "text/plain": [
       "<Figure size 432x288 with 2 Axes>"
      ]
     },
     "metadata": {
      "needs_background": "light"
     },
     "output_type": "display_data"
    }
   ],
   "source": [
    "sns.heatmap(corelation, xticklabels=corelation.columns, yticklabels=corelation.columns, annot=True)"
   ]
  },
  {
   "cell_type": "code",
   "execution_count": null,
   "id": "3c27154b-f1c9-4ca2-9331-6dc3288a8a86",
   "metadata": {},
   "outputs": [],
   "source": []
  }
 ],
 "metadata": {
  "kernelspec": {
   "display_name": "Python 3",
   "language": "python",
   "name": "python3"
  },
  "language_info": {
   "codemirror_mode": {
    "name": "ipython",
    "version": 3
   },
   "file_extension": ".py",
   "mimetype": "text/x-python",
   "name": "python",
   "nbconvert_exporter": "python",
   "pygments_lexer": "ipython3",
   "version": "3.8.8"
  }
 },
 "nbformat": 4,
 "nbformat_minor": 5
}
